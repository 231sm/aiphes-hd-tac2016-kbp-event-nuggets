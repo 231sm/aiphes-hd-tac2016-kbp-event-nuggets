{
 "cells": [
  {
   "cell_type": "code",
   "execution_count": 36,
   "metadata": {
    "collapsed": false
   },
   "outputs": [],
   "source": [
    "from nltk.tokenize import RegexpTokenizer\n",
    "\n",
    "import codecs\n",
    "\n",
    "fname = \"/home/mihaylov/Programming/TAC2016/tac2016-kbp-event-nuggets/data/DC2016E36_TAC_KBP_English_Event_Nugget_Detection_2014-2015/data/2014/training/source/0f03cc5a508d630c6c8c8c61396e31a9.tkn.txt\"\n",
    "text = \"<a>Good muffins cost $3.88\\nin New York.</a>  <p> Please buy me\\ntwo of them.\\n\\nThanks.</p>\"\n",
    "f = codecs.open(fname, encoding='utf-8')\n",
    "text = f.read()\n"
   ]
  },
  {
   "cell_type": "markdown",
   "metadata": {},
   "source": [
    "Corenlp sentence tokenization"
   ]
  },
  {
   "cell_type": "code",
   "execution_count": null,
   "metadata": {
    "collapsed": false
   },
   "outputs": [],
   "source": [
    "import ConfigParser\n",
    "import numpy as np\n",
    "from libs.stanford_corenlp_pywrapper import CoreNLP\n",
    "\n",
    "coreNlpPath = \"corenlp/*\"\n",
    "\n",
    "print \"Load proc\"\n",
    "proc = CoreNLP(\"pos\", corenlp_jars=[coreNlpPath])\n",
    "print \"start\"\n",
    "res = proc.parse_doc(text)\n",
    "\n",
    "print res"
   ]
  },
  {
   "cell_type": "markdown",
   "metadata": {},
   "source": [
    "Regex tokenizer"
   ]
  },
  {
   "cell_type": "code",
   "execution_count": 38,
   "metadata": {
    "collapsed": false
   },
   "outputs": [
    {
     "name": "stdout",
     "output_type": "stream",
     "text": [
      " \n",
      "so looks like i am thinking too much this morning .\n",
      "i am afraid of something happening to me or baby during labor . really afraid . i had a good cry about it .\n",
      "\n",
      "i am so scared that somehting will happen and i will have to come home without baby . that she will pass away . dh fear is i will pass away . amd loose both of us .\n",
      "\n",
      "are these fears normal ? should we be talking to someone about this ? \n",
      "\n",
      "so far pregnancy has been normal , everythign has been . so medical wise there is nothing that would make the dr think that there will be problems . other then looks like we may need an induction , but dr. reassured us that , it is very normal for first time moms go over due dates and need inductions . and we are going to be in a hospital with a good nicu unit , so i know if something does happen at the lst min there will be lots of good dr.s and nurses around .\n",
      "\n",
      "i think the fear hit us so hard cause we are near the end .\n",
      "\n",
      "did anyone else have these fears ? how did you get over them ? advice please ! \n",
      "\n",
      "-\n",
      " \n",
      "\n",
      "-\n",
      " \n",
      "I was terrified all the way to the hospital after my water broke . Terrified that something had happened since imstopped feeling her move . And at the hospital , it seemed tomtake forever for them tomfind her on The fetal monitor ; l was so scared ! \n",
      "And I was terrified all the way to surgery that something would go wrong and she would die in surgery .\n",
      "\n",
      "So , you are n't alone ! I think it 's natural . I just tried to breath deeply through all of my fears to help .\n",
      "\n",
      "-\n",
      " \n",
      "\n",
      "-\n",
      " \n",
      "I 'm right there with you . I 'm terrified , and DH does n't talk about it much but he 's nervous too .\n",
      "\n",
      "I 'm the kind of person who likes statistics and hard facts , so this made me feel a bit better : \n",
      "\n",
      "\" The reported maternal mortality ratio in Canada has declined from approximately 500 maternal deaths per 100,000 live births in the early 1920s to less than 5 per 100,000 live births in the 1990s1 , among the lowest reported maternal mortality ratios in the world . \" \n",
      "from : \n",
      "\n",
      "-\n",
      "Report on Maternal Mortality in Canada - Maternal and Infant Health Section - Public Health Agency of Canada\n",
      "-\n",
      " \n",
      "\n",
      "and , \n",
      "\n",
      "\" Since 1991 , stillbirth ( fetal death ) rates in Canada have been fluctuating around 6.0 per 1,000 births . In 2004 , the fetal death rate was 6.1 per 1,000 births [ 0.6 % ] , representing a decrease of 0.3 from the year before .\n",
      "Late stillbirth rates ( fetal deaths with 28 or more weeks of gestation ) have dropped steadily in the past quarter of century , from 3.5 in 1991 to 2.9 in 2004 [ 0.3 % ]. \" \n",
      "from : \n",
      "\n",
      "-\n",
      "Births: Analysis\n",
      "-\n",
      " ( StatsCan ) \n",
      "\n",
      "These statistics include premature births and crack - addict mothers / women with other serious health problems . So the chances of anything going all that wrong with your delivery are really , really , really slim .\n",
      "\n",
      "-\n",
      " \n",
      "\n",
      "-\n"
     ]
    }
   ],
   "source": [
    "tokenizer = RegexpTokenizer(r'<[^>]*>', gaps=True)\n",
    "#tokenizer = RegexpTokenizer(r'<[^a|img][^>]*[^a]>', gaps=True)\n",
    "\n",
    "sentences = [x for x in tokenizer.span_tokenize(s)]\n",
    "res_tokens = tokenizer.tokenize(s)\n",
    "\n",
    "for sent_bound in sentences:\n",
    "    print text[sent_bound[0]:sent_bound[1]]\n",
    "    print \"-\"\n",
    "    "
   ]
  },
  {
   "cell_type": "code",
   "execution_count": null,
   "metadata": {
    "collapsed": true
   },
   "outputs": [],
   "source": []
  }
 ],
 "metadata": {
  "kernelspec": {
   "display_name": "Python 2",
   "language": "python",
   "name": "python2"
  },
  "language_info": {
   "codemirror_mode": {
    "name": "ipython",
    "version": 2
   },
   "file_extension": ".py",
   "mimetype": "text/x-python",
   "name": "python",
   "nbconvert_exporter": "python",
   "pygments_lexer": "ipython2",
   "version": "2.7.12"
  }
 },
 "nbformat": 4,
 "nbformat_minor": 0
}
