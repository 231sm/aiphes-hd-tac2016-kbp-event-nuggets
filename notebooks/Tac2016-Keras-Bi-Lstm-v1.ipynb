{
 "cells": [
  {
   "cell_type": "code",
   "execution_count": 1,
   "metadata": {
    "collapsed": true
   },
   "outputs": [],
   "source": [
    "# LSTM v1 - Simple Lstm experiments"
   ]
  },
  {
   "cell_type": "code",
   "execution_count": 66,
   "metadata": {
    "collapsed": false
   },
   "outputs": [
    {
     "name": "stdout",
     "output_type": "stream",
     "text": [
      "The autoreload extension is already loaded. To reload it, use:\n",
      "  %reload_ext autoreload\n",
      "readers/../data/\n"
     ]
    }
   ],
   "source": [
    "%load_ext autoreload\n",
    "%autoreload 2\n",
    "\n",
    "import readers.tac_prep_corpus as tc\n",
    "from readers.tac_prep_corpus import *\n",
    "\n",
    "print data_dir"
   ]
  },
  {
   "cell_type": "code",
   "execution_count": 67,
   "metadata": {
    "collapsed": true
   },
   "outputs": [],
   "source": [
    "data_tac2014_train = data_dir+\"/clear_data/data_tac2014_train.json\"\n",
    "data_tac2014_eval = data_dir+\"/clear_data/data_tac2014_eval.json\"\n",
    "data_tac2015_train = data_dir+\"/clear_data/data_tac2015_train.json\"\n",
    "data_tac2015_eval = data_dir+\"/clear_data/data_tac2015_eval.json\""
   ]
  },
  {
   "cell_type": "markdown",
   "metadata": {},
   "source": [
    "Vocab and statistics"
   ]
  },
  {
   "cell_type": "code",
   "execution_count": 68,
   "metadata": {
    "collapsed": false
   },
   "outputs": [],
   "source": [
    "# reload(readers.tac_prep_corpus)\n",
    "word_counts = TacPrepJsonCorpus.word_counts_from_jsonfiles(json_files = [data_tac2014_train, data_tac2014_eval, data_tac2015_train])\n",
    "\n",
    "# print \"Top 10 tokens:\"\n",
    "# print word_counts[:10]"
   ]
  },
  {
   "cell_type": "code",
   "execution_count": 69,
   "metadata": {
    "collapsed": false
   },
   "outputs": [
    {
     "name": "stdout",
     "output_type": "stream",
     "text": [
      "Vocab size:20459\n",
      "Tokens with freq>=5 : 6813\n"
     ]
    }
   ],
   "source": [
    "# word_counts.sort(key = lambda x:x[1], reverse=True)\n",
    "print \"Vocab size:%s\" % len(word_counts)\n",
    "print \"Tokens with freq>=%s : %s\" % (5, len( [xx for xx in word_counts if xx[1]>=5]))"
   ]
  },
  {
   "cell_type": "code",
   "execution_count": 70,
   "metadata": {
    "collapsed": false
   },
   "outputs": [
    {
     "name": "stdout",
     "output_type": "stream",
     "text": [
      "[u'toured', u'Merion', u'dependence', u'Advocacy', u'BEFORE', u'Musical', u'Fastow', u'Coach', u'six-party', u'volumes']\n"
     ]
    }
   ],
   "source": [
    "# clear the vocab\n",
    "vocab = [xx[0] for xx in word_counts]\n",
    "print vocab[-10:]"
   ]
  },
  {
   "cell_type": "code",
   "execution_count": 71,
   "metadata": {
    "collapsed": false
   },
   "outputs": [
    {
     "name": "stdout",
     "output_type": "stream",
     "text": [
      "400\n"
     ]
    }
   ],
   "source": [
    "print len([xx for xx in vocab if (\"/\" in xx)or(\"\\\\\" in xx)])"
   ]
  },
  {
   "cell_type": "code",
   "execution_count": null,
   "metadata": {
    "collapsed": false
   },
   "outputs": [],
   "source": [
    ""
   ]
  },
  {
   "cell_type": "markdown",
   "metadata": {},
   "source": [
    "# Load the corpus"
   ]
  },
  {
   "cell_type": "code",
   "execution_count": null,
   "metadata": {
    "collapsed": true
   },
   "outputs": [],
   "source": [
    ""
   ]
  },
  {
   "cell_type": "code",
   "execution_count": 95,
   "metadata": {
    "collapsed": true
   },
   "outputs": [],
   "source": [
    "max_sent_len = 1000 \n",
    "max_nr_sent = 100000\n",
    "max_sent_len=max_sent_len\n",
    "max_nr_sent=max_nr_sent\n",
    "update_vocab=True\n",
    "update_tags=True\n",
    "unknown_word = \"UNKNWN\"\n",
    "unknown_tag = \"O\"\n",
    "mapping_file = None\n",
    "data_x_fieldname = \"tokens\"\n",
    "data_y_fieldname = \"labels_event\""
   ]
  },
  {
   "cell_type": "code",
   "execution_count": 96,
   "metadata": {
    "collapsed": true
   },
   "outputs": [],
   "source": [
    "def count_non_zero_label(test_seq):\n",
    "    cnt = 0\n",
    "    for item in test_seq:\n",
    "        for lbl in item.y:\n",
    "            if lbl!=0:\n",
    "                cnt += 1\n",
    "                # print item.y\n",
    "                break\n",
    "\n",
    "    return cnt"
   ]
  },
  {
   "cell_type": "code",
   "execution_count": 97,
   "metadata": {
    "collapsed": true
   },
   "outputs": [],
   "source": [
    "tac_corpus = TacPrepJsonCorpus([unknown_word], [unknown_tag])"
   ]
  },
  {
   "cell_type": "code",
   "execution_count": 98,
   "metadata": {
    "collapsed": false
   },
   "outputs": [
    {
     "name": "stdout",
     "output_type": "stream",
     "text": [
      "readers/../data//clear_data/data_tac2015_eval.json\n"
     ]
    }
   ],
   "source": [
    "test_seq, test_seq_meta = tac_corpus.read_sequence_list_tac_json([data_tac2015_eval], max_sent_len=max_sent_len, max_nr_sent=max_nr_sent, \n",
    "                         update_vocab=update_vocab, update_tags=update_tags, unknown_word=unknown_word, \n",
    "                         unknown_tag=unknown_tag, mapping_file=mapping_file, \n",
    "                         data_x_fieldname=data_x_fieldname,\n",
    "                         data_y_fieldname=data_y_fieldname)"
   ]
  },
  {
   "cell_type": "code",
   "execution_count": null,
   "metadata": {
    "collapsed": false
   },
   "outputs": [],
   "source": [
    ""
   ]
  },
  {
   "cell_type": "code",
   "execution_count": 99,
   "metadata": {
    "collapsed": false
   },
   "outputs": [
    {
     "name": "stdout",
     "output_type": "stream",
     "text": [
      "All sents:4164\n",
      "Non zero labels:2646\n",
      "[1, 2, 3, 4, 5, 6, 7, 8, 9, 10, 11, 12, 13, 14, 15, 16, 17, 18, 19, 20, 21, 22, 23, 24, 25, 26, 27, 28, 29, 6, 7, 21, 30, 31, 32, 25, 33, 34, 35, 36, 25, 37, 38, 39, 40, 41, 42, 43, 44, 45, 46, 47, 48, 49, 50, 25, 51, 52, 53, 5, 54, 55, 56, 57, 58, 59, 21, 60, 61]\n",
      "{u'tokens': [u'regime', u'<img\\xa0src=\"http://www.amnesty.org/sites/impact.amnesty.org/files/imagecache/news-highlight/brazil-amnesty-law%2025.04.12.JPG\"/>', u'The', u'efforts', u'of', u'federal', u'prosecutors', u'to', u'initiate', u'criminal', u'investigations', u'into', u'past', u'human', u'rights', u'violations', u'marks', u'a', u'crucial', u'moment', u'in', u'Brazil', u\"'s\", u'history', u',', u'said', u'Amnesty', u'International', u'after', u'federal', u'prosecutors', u'in', u'S\\xe3o', u'Paulo', u'charged', u',', u'on', u'24', u'March', u'2012', u',', u'retired', u'Colonel', u'Carlos', u'Alberto', u'Brilhante', u'Ustra', u'and', u'police', u'chief', u'-LRB-', u'delegado', u'-RRB-', u'Dirceu', u'Garvina', u',', u'with', u'the', u'kidnapping', u'of', u'union', u'leader', u'Alu\\xedzio', u'Palhano', u'Pedreira', u'Ferreira', u'in', u'1971', u'.'], u'deps_basic': [[u'root', -1, 25], [u'compound', 1, 0], [u'acl:relcl', 1, 16], [u'det', 3, 2], [u'nmod', 3, 6], [u'acl', 3, 8], [u'case', 6, 4], [u'amod', 6, 5], [u'nmod', 8, 15], [u'mark', 8, 7], [u'dobj', 8, 10], [u'amod', 10, 9], [u'case', 15, 11], [u'amod', 15, 12], [u'amod', 15, 13], [u'compound', 15, 14], [u'nsubj', 16, 3], [u'dobj', 16, 19], [u'det', 19, 17], [u'amod', 19, 18], [u'nmod', 19, 23], [u'case', 21, 22], [u'case', 23, 20], [u'nmod:poss', 23, 21], [u'nsubj', 25, 1], [u'punct', 25, 35], [u'nmod', 25, 67], [u'punct', 25, 68], [u'nmod', 25, 37], [u'nmod:tmod', 25, 38], [u'punct', 25, 55], [u'punct', 25, 24], [u'punct', 25, 40], [u'dep', 25, 41], [u'nmod', 25, 58], [u'dobj', 25, 27], [u'acl', 27, 34], [u'compound', 27, 26], [u'nmod', 30, 33], [u'amod', 30, 29], [u'case', 33, 31], [u'compound', 33, 32], [u'mark', 34, 28], [u'nsubj', 34, 30], [u'case', 37, 36], [u'nummod', 38, 39], [u'dobj', 41, 46], [u'cc', 46, 47], [u'conj', 46, 49], [u'compound', 46, 42], [u'compound', 46, 43], [u'compound', 46, 44], [u'compound', 46, 45], [u'compound', 49, 48], [u'appos', 49, 51], [u'dep', 49, 54], [u'punct', 51, 50], [u'punct', 51, 52], [u'compound', 54, 53], [u'nmod', 58, 65], [u'case', 58, 56], [u'det', 58, 57], [u'compound', 65, 63], [u'compound', 65, 64], [u'case', 65, 59], [u'compound', 65, 60], [u'compound', 65, 61], [u'compound', 65, 62], [u'case', 67, 66]], u'lemmas': [u'regime', u'<img\\xa0src=\"http://www.amnesty.org/sites/impact.amnesty.org/files/imagecache/news-highlight/brazil-amnesty-law%2025.04.12.jpg\"/>', u'the', u'effort', u'of', u'federal', u'prosecutor', u'to', u'initiate', u'criminal', u'investigation', u'into', u'past', u'human', u'rights', u'violation', u'mark', u'a', u'crucial', u'moment', u'in', u'Brazil', u\"'s\", u'history', u',', u'say', u'Amnesty', u'International', u'after', u'federal', u'prosecutor', u'in', u'S\\xe3o', u'Paulo', u'charge', u',', u'on', u'24', u'March', u'2012', u',', u'retire', u'Colonel', u'Carlos', u'Alberto', u'Brilhante', u'Ustra', u'and', u'police', u'chief', u'-lrb-', u'delegado', u'-rrb-', u'Dirceu', u'Garvina', u',', u'with', u'the', u'kidnapping', u'of', u'union', u'leader', u'Alu\\xedzio', u'Palhano', u'Pedreira', u'Ferreira', u'in', u'1971', u'.'], u'deps_cc': [[u'root', -1, 25], [u'compound', 1, 0], [u'acl:relcl', 1, 16], [u'det', 3, 2], [u'nmod:of', 3, 6], [u'acl', 3, 8], [u'case', 6, 4], [u'amod', 6, 5], [u'nmod:into', 8, 15], [u'mark', 8, 7], [u'dobj', 8, 10], [u'amod', 10, 9], [u'case', 15, 11], [u'amod', 15, 12], [u'amod', 15, 13], [u'compound', 15, 14], [u'nsubj', 16, 3], [u'dobj', 16, 19], [u'det', 19, 17], [u'amod', 19, 18], [u'nmod:in', 19, 23], [u'case', 21, 22], [u'case', 23, 20], [u'nmod:poss', 23, 21], [u'nsubj', 25, 1], [u'punct', 25, 35], [u'nmod:in', 25, 67], [u'punct', 25, 68], [u'nmod:on', 25, 37], [u'nmod:tmod', 25, 38], [u'punct', 25, 55], [u'punct', 25, 24], [u'punct', 25, 40], [u'dep', 25, 41], [u'nmod:with', 25, 58], [u'dobj', 25, 27], [u'acl', 27, 34], [u'compound', 27, 26], [u'nmod:in', 30, 33], [u'amod', 30, 29], [u'case', 33, 31], [u'compound', 33, 32], [u'mark', 34, 28], [u'nsubj', 34, 30], [u'case', 37, 36], [u'nummod', 38, 39], [u'dobj', 41, 49], [u'dobj', 41, 46], [u'cc', 46, 47], [u'conj:and', 46, 49], [u'compound', 46, 42], [u'compound', 46, 43], [u'compound', 46, 44], [u'compound', 46, 45], [u'compound', 49, 48], [u'appos', 49, 51], [u'dep', 49, 54], [u'punct', 51, 50], [u'punct', 51, 52], [u'compound', 54, 53], [u'nmod:of', 58, 65], [u'case', 58, 56], [u'det', 58, 57], [u'compound', 65, 63], [u'compound', 65, 64], [u'case', 65, 59], [u'compound', 65, 60], [u'compound', 65, 61], [u'compound', 65, 62], [u'case', 67, 66]], u'pos': [u'NN', u'NN', u'DT', u'NNS', u'IN', u'JJ', u'NNS', u'TO', u'VB', u'JJ', u'NNS', u'IN', u'JJ', u'JJ', u'NNS', u'NNS', u'VBZ', u'DT', u'JJ', u'NN', u'IN', u'NNP', u'POS', u'NN', u',', u'VBD', u'NNP', u'NNP', u'IN', u'JJ', u'NNS', u'IN', u'NNP', u'NNP', u'VBD', u',', u'IN', u'CD', u'NNP', u'CD', u',', u'VBN', u'NNP', u'NNP', u'NNP', u'NNP', u'NNP', u'CC', u'NN', u'NN', u'-LRB-', u'NN', u'-RRB-', u'NNP', u'NNP', u',', u'IN', u'DT', u'NN', u'IN', u'NN', u'NN', u'NNP', u'NNP', u'NNP', u'NNP', u'IN', u'CD', u'.'], u'parse': u'(ROOT (S (NP (NP (NN regime) (NN <img\\xa0src=\"http://www.amnesty.org/sites/impact.amnesty.org/files/imagecache/news-highlight/brazil-amnesty-law%2025.04.12.JPG\"/>)) (SBAR (S (NP (NP (DT The) (NNS efforts)) (PP (IN of) (NP (JJ federal) (NNS prosecutors))) (S (VP (TO to) (VP (VB initiate) (NP (JJ criminal) (NNS investigations)) (PP (IN into) (NP (JJ past) (JJ human) (NNS rights) (NNS violations))))))) (VP (VBZ marks) (NP (NP (DT a) (JJ crucial) (NN moment)) (PP (IN in) (NP (NP (NNP Brazil) (POS \\'s)) (NN history)))))))) (, ,) (VP (VBD said) (NP (NP (NNP Amnesty) (NNP International)) (SBAR (IN after) (S (NP (NP (JJ federal) (NNS prosecutors)) (PP (IN in) (NP (NNP S\\xe3o) (NNP Paulo)))) (VP (VBD charged))))) (, ,) (PP (IN on) (NP (CD 24))) (NP-TMP (NNP March) (CD 2012)) (, ,) (VP (VBN retired) (NP (NP (NNP Colonel) (NNP Carlos) (NNP Alberto) (NNP Brilhante) (NNP Ustra)) (CC and) (NP (NP (NN police) (NN chief)) (PRN (-LRB- -LRB-) (NP (NN delegado)) (-RRB- -RRB-)) (NP (NNP Dirceu) (NNP Garvina))))) (, ,) (PP (IN with) (NP (NP (DT the) (NN kidnapping)) (PP (IN of) (NP (NN union) (NN leader) (NNP Alu\\xedzio) (NNP Palhano) (NNP Pedreira) (NNP Ferreira))))) (PP (IN in) (NP (CD 1971)))) (. .)))', 'file_name': u'04bfe2831596d665b1585d8bf7bedd47.txt', 'file_id': u'04bfe2831596d665b1585d8bf7bedd47', u'char_offsets': [[131, 137], [139, 265], [267, 270], [271, 278], [279, 281], [282, 289], [290, 301], [302, 304], [305, 313], [314, 322], [323, 337], [338, 342], [343, 347], [348, 353], [354, 360], [361, 371], [372, 377], [378, 379], [380, 387], [388, 394], [395, 397], [398, 404], [404, 406], [407, 414], [414, 415], [416, 420], [421, 428], [429, 442], [443, 448], [449, 456], [457, 468], [469, 471], [472, 475], [476, 481], [482, 489], [489, 490], [491, 493], [494, 496], [497, 502], [503, 507], [507, 508], [509, 516], [517, 524], [525, 531], [532, 539], [540, 549], [550, 555], [556, 559], [560, 566], [567, 572], [573, 574], [574, 582], [582, 583], [584, 590], [591, 598], [598, 599], [600, 604], [605, 608], [609, 619], [620, 622], [623, 628], [629, 635], [636, 643], [644, 651], [652, 660], [661, 669], [670, 672], [673, 677], [677, 678]], u'labels_realis': [u'O', u'O', u'O', u'O', u'O', u'O', u'O', u'O', u'O', u'O', u'O', u'O', u'O', u'O', u'O', u'O', u'O', u'O', u'O', u'O', u'O', u'O', u'O', u'O', u'O', u'B-Actual', u'O', u'O', u'O', u'O', u'O', u'O', u'O', u'O', u'B-Actual', u'O', u'O', u'O', u'O', u'O', u'O', u'B-Actual', u'O', u'O', u'O', u'O', u'O', u'O', u'O', u'O', u'O', u'O', u'O', u'O', u'O', u'O', u'O', u'O', u'B-Actual', u'O', u'O', u'O', u'O', u'O', u'O', u'O', u'O', u'O', u'O'], u'labels_type_full': [u'O', u'O', u'O', u'O', u'O', u'O', u'O', u'O', u'O', u'O', u'O', u'O', u'O', u'O', u'O', u'O', u'O', u'O', u'O', u'O', u'O', u'O', u'O', u'O', u'O', u'B-Contact_Broadcast', u'O', u'O', u'O', u'O', u'O', u'O', u'O', u'O', u'B-Justice_Charge-Indict', u'O', u'O', u'O', u'O', u'O', u'O', u'B-Personnel_End-Position', u'O', u'O', u'O', u'O', u'O', u'O', u'O', u'O', u'O', u'O', u'O', u'O', u'O', u'O', u'O', u'O', u'B-Movement_Transport-Person', u'O', u'O', u'O', u'O', u'O', u'O', u'O', u'O', u'O', u'O'], u'labels_event': [u'O', u'O', u'O', u'O', u'O', u'O', u'O', u'O', u'O', u'O', u'O', u'O', u'O', u'O', u'O', u'O', u'O', u'O', u'O', u'O', u'O', u'O', u'O', u'O', u'O', u'B-EVENT', u'O', u'O', u'O', u'O', u'O', u'O', u'O', u'O', u'B-EVENT', u'O', u'O', u'O', u'O', u'O', u'O', u'B-EVENT', u'O', u'O', u'O', u'O', u'O', u'O', u'O', u'O', u'O', u'O', u'O', u'O', u'O', u'O', u'O', u'O', u'B-EVENT', u'O', u'O', u'O', u'O', u'O', u'O', u'O', u'O', u'O', u'O']}\n"
     ]
    }
   ],
   "source": [
    "print \"All sents:%s\" % len(test_seq)\n",
    "print \"Non zero labels:%s\" % count_non_zero_label(test_seq)\n",
    "print test_seq[0].x\n",
    "# print test_seq_meta[0]"
   ]
  },
  {
   "cell_type": "code",
   "execution_count": 100,
   "metadata": {
    "collapsed": false
   },
   "outputs": [
    {
     "name": "stdout",
     "output_type": "stream",
     "text": [
      "readers/../data//clear_data/data_tac2014_train.json\n",
      "readers/../data//clear_data/data_tac2015_train.json\n"
     ]
    }
   ],
   "source": [
    "train_seq, train_seq_meta = tac_corpus.read_sequence_list_tac_json([data_tac2014_train, data_tac2015_train], max_sent_len=max_sent_len, max_nr_sent=max_nr_sent, \n",
    "                         update_vocab=update_vocab, update_tags=update_tags, unknown_word=unknown_word, \n",
    "                         unknown_tag=unknown_tag, mapping_file=mapping_file, \n",
    "                         data_x_fieldname=data_x_fieldname,\n",
    "                         data_y_fieldname=data_y_fieldname)"
   ]
  },
  {
   "cell_type": "code",
   "execution_count": 101,
   "metadata": {
    "collapsed": false
   },
   "outputs": [
    {
     "name": "stdout",
     "output_type": "stream",
     "text": [
      "All sents:12573\n",
      "Non zero labels:5367\n"
     ]
    }
   ],
   "source": [
    "print \"All sents:%s\" % len(train_seq)\n",
    "print \"Non zero labels:%s\" % count_non_zero_label(train_seq)"
   ]
  },
  {
   "cell_type": "code",
   "execution_count": 102,
   "metadata": {
    "collapsed": false
   },
   "outputs": [
    {
     "name": "stdout",
     "output_type": "stream",
     "text": [
      "readers/../data//clear_data/data_tac2014_eval.json\n"
     ]
    }
   ],
   "source": [
    "dev_seq, dev_seq_meta = tac_corpus.read_sequence_list_tac_json([data_tac2014_eval], max_sent_len=max_sent_len, max_nr_sent=max_nr_sent, \n",
    "                         update_vocab=update_vocab, update_tags=update_tags, unknown_word=unknown_word, \n",
    "                         unknown_tag=unknown_tag, mapping_file=mapping_file, \n",
    "                         data_x_fieldname=data_x_fieldname,\n",
    "                         data_y_fieldname=data_y_fieldname)"
   ]
  },
  {
   "cell_type": "code",
   "execution_count": 103,
   "metadata": {
    "collapsed": false
   },
   "outputs": [
    {
     "name": "stdout",
     "output_type": "stream",
     "text": [
      "All sents:9041\n",
      "Non zero labels:3749\n"
     ]
    }
   ],
   "source": [
    "print \"All sents:%s\" % len(dev_seq)\n",
    "print \"Non zero labels:%s\" % count_non_zero_label(dev_seq)"
   ]
  },
  {
   "cell_type": "code",
   "execution_count": 104,
   "metadata": {
    "collapsed": true
   },
   "outputs": [],
   "source": [
    "# Redo indices\n",
    "train_seq, test_seq, dev_seq = tc.compacify(train_seq, test_seq, dev_seq, theano=True)\n",
    "\n",
    "# Get number of words and tags in the corpus\n",
    "nr_words = len(train_seq.x_dict)\n",
    "nr_tags = len(train_seq.y_dict)"
   ]
  },
  {
   "cell_type": "code",
   "execution_count": 105,
   "metadata": {
    "collapsed": false
   },
   "outputs": [
    {
     "name": "stdout",
     "output_type": "stream",
     "text": [
      "25583\n",
      "4\n"
     ]
    }
   ],
   "source": [
    "print nr_words\n",
    "print nr_tags"
   ]
  },
  {
   "cell_type": "markdown",
   "metadata": {},
   "source": [
    "# Run the lstm"
   ]
  },
  {
   "cell_type": "code",
   "execution_count": null,
   "metadata": {
    "collapsed": false
   },
   "outputs": [],
   "source": [
    ""
   ]
  },
  {
   "cell_type": "code",
   "execution_count": 106,
   "metadata": {
    "collapsed": true
   },
   "outputs": [],
   "source": [
    "import lstm_v1 as lstm_v1\n",
    "import theano\n",
    "import theano.tensor as T"
   ]
  },
  {
   "cell_type": "code",
   "execution_count": 107,
   "metadata": {
    "collapsed": false
   },
   "outputs": [
    {
     "name": "stdout",
     "output_type": "stream",
     "text": [
      "nr_words:25583\n",
      "emb_size:50\n",
      "hidden_size:50\n",
      "nr_tags:4\n",
      "lrate:0.01\n"
     ]
    }
   ],
   "source": [
    "emb_size=50\n",
    "hidden_size=50\n",
    "SEED = 42\n",
    "\n",
    "lrate = 0.01\n",
    "\n",
    "nr_iterations = 5\n",
    "print \"nr_words:%s\" % nr_words\n",
    "print \"emb_size:%s\" % emb_size\n",
    "print \"hidden_size:%s\" % hidden_size\n",
    "print \"nr_tags:%s\" % nr_tags\n",
    "print \"lrate:%s\" % lrate"
   ]
  },
  {
   "cell_type": "code",
   "execution_count": null,
   "metadata": {
    "collapsed": false
   },
   "outputs": [],
   "source": [
    ""
   ]
  },
  {
   "cell_type": "code",
   "execution_count": null,
   "metadata": {
    "collapsed": false
   },
   "outputs": [],
   "source": [
    ""
   ]
  },
  {
   "cell_type": "code",
   "execution_count": 108,
   "metadata": {
    "collapsed": false
   },
   "outputs": [
    {
     "name": "stdout",
     "output_type": "stream",
     "text": [
      "<lstm_v1.LSTM instance at 0x7f7dbe52d680>\n"
     ]
    }
   ],
   "source": [
    "# Instantiate LSTM\n",
    "lstm = lstm_v1.LSTM(n_words = nr_words, \n",
    "                    n_emb=emb_size, \n",
    "                    n_hidd=hidden_size, \n",
    "                    n_tags=nr_tags, \n",
    "                    seed=SEED)\n",
    "\n",
    "print lstm"
   ]
  },
  {
   "cell_type": "code",
   "execution_count": 111,
   "metadata": {
    "collapsed": false
   },
   "outputs": [
    {
     "data": {
      "text/plain": [
       "[<TensorType(float64, matrix)>,\n",
       " <TensorType(float64, matrix)>,\n",
       " <TensorType(float64, matrix)>,\n",
       " <TensorType(float64, matrix)>,\n",
       " <TensorType(float64, matrix)>]"
      ]
     },
     "execution_count": 111,
     "metadata": {},
     "output_type": "execute_result"
    }
   ],
   "source": [
    "lstm.param"
   ]
  },
  {
   "cell_type": "code",
   "execution_count": null,
   "metadata": {
    "collapsed": false
   },
   "outputs": [],
   "source": [
    "# Compile prediction and bacth update functions\n",
    "x = T.ivector('x')\n",
    "y = T.ivector('y')\n",
    "lstm_prediction = theano.function([x], T.argmax(lstm._forward(x), 1))\n",
    "lstm_cost = -T.mean(T.log(lstm._forward(x))[T.arange(y.shape[0]), y])\n",
    "\n",
    "# Get list of SGD batch update rule for each parameter\n",
    "lstm_updates = [(par, par - lrate*T.grad(lstm_cost, par)) for par in lstm.param]\n",
    "\n",
    "# compile\n",
    "lstm_batch_update = theano.function([x, y], lstm_cost, updates=lstm_updates)"
   ]
  },
  {
   "cell_type": "code",
   "execution_count": null,
   "metadata": {
    "collapsed": false
   },
   "outputs": [],
   "source": [
    "for i in range(nr_iterations):\n",
    "    # Training\n",
    "    cost = 0\n",
    "    errors = 0\n",
    "    for n, seq in enumerate(train_seq):\n",
    "        cost += lstm_batch_update(seq.x, seq.y)\n",
    "        errors += sum(lstm_prediction(seq.x) != seq.y)\n",
    "    acc_train = 100*(1-errors*1./nr_words)\n",
    "    \n",
    "    print \"Epoch %d: Train cost %2.2f Acc %2.2f %%\" % (i+1, cost, acc_train),\n",
    "    # Evaluation:\n",
    "    errors = 0\n",
    "    for n, seq in enumerate(dev_seq):\n",
    "        errors += sum(lstm_prediction(seq.x) != seq.y)\n",
    "        acc_dev = 100*(1-errors*1./nr_words)\n",
    "    print \" Devel Acc %2.2f %%\" % acc_dev\n",
    "    sys.stdout.flush()\n",
    "    \n",
    "print \"Done!\""
   ]
  },
  {
   "cell_type": "code",
   "execution_count": null,
   "metadata": {
    "collapsed": true
   },
   "outputs": [],
   "source": [
    ""
   ]
  }
 ],
 "metadata": {
  "kernelspec": {
   "display_name": "Python 2",
   "language": "python",
   "name": "python2"
  },
  "language_info": {
   "codemirror_mode": {
    "name": "ipython",
    "version": 2.0
   },
   "file_extension": ".py",
   "mimetype": "text/x-python",
   "name": "python",
   "nbconvert_exporter": "python",
   "pygments_lexer": "ipython2",
   "version": "2.7.12"
  }
 },
 "nbformat": 4,
 "nbformat_minor": 0
}